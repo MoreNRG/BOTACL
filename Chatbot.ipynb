{
  "nbformat": 4,
  "nbformat_minor": 0,
  "metadata": {
    "colab": {
      "name": "De-Stress Chatbot.ipynb",
      "provenance": [],
      "collapsed_sections": [
        "-4kLFuGLUoL3",
        "W1Ev1RnCVE9j",
        "AYFoF_IMUiiC",
        "VzesqFxMXT-B"
      ]
    },
    "kernelspec": {
      "name": "python3",
      "display_name": "Python 3"
    }
  },
  "cells": [
    {
      "cell_type": "markdown",
      "metadata": {
        "id": "W1Ev1RnCVE9j",
        "colab_type": "text"
      },
      "source": [
        "# Librerias\n",
        "\n",
        "## Run This cell"
      ]
    },
    {
      "cell_type": "code",
      "metadata": {
        "id": "biz7q6BLVGy9",
        "colab_type": "code",
        "colab": {}
      },
      "source": [
        "!pip install covid\n",
        "!git clone https://github.com/ChatBotChallengeCdCMX/ChatBotForCovidDe-stress.git"
      ],
      "execution_count": null,
      "outputs": []
    },
    {
      "cell_type": "markdown",
      "metadata": {
        "id": "3wc9zP_LXkHw",
        "colab_type": "text"
      },
      "source": [
        "# Talking"
      ]
    },
    {
      "cell_type": "markdown",
      "metadata": {
        "id": "g36BAID-11eS",
        "colab_type": "text"
      },
      "source": [
        "Run the cell below to interact with De-Stress Chatbot.\n",
        "\n",
        "If you want to stop talking to the chatbot say  **'quit'**\n",
        "\n",
        "\n",
        "---\n",
        "![](https://i.pinimg.com/originals/0c/67/5a/0c675a8e1061478d2b7b21b330093444.gif)\n"
      ]
    },
    {
      "cell_type": "code",
      "metadata": {
        "id": "aYnDOz5hXjbP",
        "colab_type": "code",
        "cellView": "form",
        "colab": {}
      },
      "source": [
        "#@title De-Stress Chatbot\n",
        "#@markdown ![Esta es una imagen de ejemplo](https://encrypted-tbn0.gstatic.com/images?q=tbn%3AANd9GcRGbLPwoNkbvHyZMHYn5F-8gnr2rF7BPKXnFw&usqp=CAU)\n",
        "%cd ChatBotForCovidDe-stress/Script/\n",
        "import chat as c\n",
        "c.have_a_chat()"
      ],
      "execution_count": null,
      "outputs": []
    }
  ]
}