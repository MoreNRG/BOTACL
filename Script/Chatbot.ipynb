{
  "nbformat": 4,
  "nbformat_minor": 0,
  "metadata": {
    "colab": {
      "name": "De-Stress Chatbot.ipynb",
      "provenance": [],
      "collapsed_sections": [
        "-4kLFuGLUoL3",
        "W1Ev1RnCVE9j",
        "AYFoF_IMUiiC",
        "VzesqFxMXT-B"
      ]
    },
    "kernelspec": {
      "name": "python3",
      "display_name": "Python 3"
    }
  },
  "cells": [
    {
      "cell_type": "markdown",
      "metadata": {
        "id": "W1Ev1RnCVE9j",
        "colab_type": "text"
      },
      "source": [
        "# Librerias\n",
        "\n",
        "## Run This cell"
      ]
    },
    {
      "cell_type": "code",
      "metadata": {
        "id": "biz7q6BLVGy9",
        "colab_type": "code",
        "colab": {
          "base_uri": "https://localhost:8080/",
          "height": 0
        },
        "outputId": "4b4ebf84-a2fc-46aa-aee5-aa9a1bc92215"
      },
      "source": [
        "!pip install covid\n",
        "!git clone https://github.com/ChatBotChallengeCdCMX/ChatBotForCovidDe-stress.git"
      ],
      "execution_count": 1,
      "outputs": [
        {
          "output_type": "stream",
          "text": [
            "Collecting covid\n",
            "  Downloading https://files.pythonhosted.org/packages/59/73/a56355a172dcc3725f4af48160861d157ff69173670ee9499eb2d965d4e9/covid-2.3.0.tar.gz\n",
            "  Installing build dependencies ... \u001b[?25l\u001b[?25hdone\n",
            "  Getting requirements to build wheel ... \u001b[?25l\u001b[?25hdone\n",
            "    Preparing wheel metadata ... \u001b[?25l\u001b[?25hdone\n",
            "Requirement already satisfied: beautifulsoup4 in /usr/local/lib/python3.6/dist-packages (from covid) (4.6.3)\n",
            "Collecting pydantic\n",
            "\u001b[?25l  Downloading https://files.pythonhosted.org/packages/aa/5f/855412ad12817ae87f1c77d3af2fc384eaed3adfb8f3994816d75483fa20/pydantic-1.6.1-cp36-cp36m-manylinux2014_x86_64.whl (8.7MB)\n",
            "\u001b[K     |████████████████████████████████| 8.7MB 3.8MB/s \n",
            "\u001b[?25hRequirement already satisfied: requests in /usr/local/lib/python3.6/dist-packages (from covid) (2.23.0)\n",
            "Requirement already satisfied: dataclasses>=0.6; python_version < \"3.7\" in /usr/local/lib/python3.6/dist-packages (from pydantic->covid) (0.7)\n",
            "Requirement already satisfied: idna<3,>=2.5 in /usr/local/lib/python3.6/dist-packages (from requests->covid) (2.10)\n",
            "Requirement already satisfied: chardet<4,>=3.0.2 in /usr/local/lib/python3.6/dist-packages (from requests->covid) (3.0.4)\n",
            "Requirement already satisfied: certifi>=2017.4.17 in /usr/local/lib/python3.6/dist-packages (from requests->covid) (2020.6.20)\n",
            "Requirement already satisfied: urllib3!=1.25.0,!=1.25.1,<1.26,>=1.21.1 in /usr/local/lib/python3.6/dist-packages (from requests->covid) (1.24.3)\n",
            "Building wheels for collected packages: covid\n",
            "  Building wheel for covid (PEP 517) ... \u001b[?25l\u001b[?25hdone\n",
            "  Created wheel for covid: filename=covid-2.3.0-cp36-none-any.whl size=8441 sha256=b38c5c30b5c6bcd89332629987f3e1a82c1993c2a202cf54395ea4e7182d9cf7\n",
            "  Stored in directory: /root/.cache/pip/wheels/77/cd/8a/87daba9dc6274aa4b705f29698faeafd0f51af78e29e984c1a\n",
            "Successfully built covid\n",
            "Installing collected packages: pydantic, covid\n",
            "Successfully installed covid-2.3.0 pydantic-1.6.1\n",
            "Cloning into 'ChatBotForCovidDe-stress'...\n",
            "remote: Enumerating objects: 8, done.\u001b[K\n",
            "remote: Counting objects: 100% (8/8), done.\u001b[K\n",
            "remote: Compressing objects: 100% (8/8), done.\u001b[K\n",
            "remote: Total 137 (delta 2), reused 0 (delta 0), pack-reused 129\u001b[K\n",
            "Receiving objects: 100% (137/137), 4.44 MiB | 20.75 MiB/s, done.\n",
            "Resolving deltas: 100% (57/57), done.\n"
          ],
          "name": "stdout"
        }
      ]
    },
    {
      "cell_type": "markdown",
      "metadata": {
        "id": "3wc9zP_LXkHw",
        "colab_type": "text"
      },
      "source": [
        "# Talking"
      ]
    },
    {
      "cell_type": "markdown",
      "metadata": {
        "id": "g36BAID-11eS",
        "colab_type": "text"
      },
      "source": [
        "Run the cell below to interact with De-Stress Chatbot.\n",
        "\n",
        "If you want to stop talking to the chatbot say  **'quit'**\n",
        "\n",
        "\n",
        "---\n",
        "![](https://i.pinimg.com/originals/0c/67/5a/0c675a8e1061478d2b7b21b330093444.gif)\n"
      ]
    },
    {
      "cell_type": "code",
      "metadata": {
        "id": "aYnDOz5hXjbP",
        "colab_type": "code",
        "cellView": "form",
        "colab": {}
      },
      "source": [
        "#@title De-Stress Chatbot\n",
        "#@markdown ![Esta es una imagen de ejemplo](https://encrypted-tbn0.gstatic.com/images?q=tbn%3AANd9GcRGbLPwoNkbvHyZMHYn5F-8gnr2rF7BPKXnFw&usqp=CAU)\n",
        "%cd ChatBotForCovidDe-stress/Script/\n",
        "import chat as c\n",
        "c.have_a_chat()"
      ],
      "execution_count": null,
      "outputs": []
    }
  ]
}