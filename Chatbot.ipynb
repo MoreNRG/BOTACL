{
 "cells": [
  {
   "cell_type": "markdown",
   "metadata": {
    "colab_type": "text",
    "id": "W1Ev1RnCVE9j"
   },
   "source": [
    "# Librerias\n",
    "\n",
    "## Corre esta celda "
   ]
  },
  {
   "cell_type": "code",
   "execution_count": null,
   "metadata": {
    "colab": {
     "base_uri": "https://localhost:8080/",
     "height": 0
    },
    "colab_type": "code",
    "id": "biz7q6BLVGy9",
    "outputId": "4b4ebf84-a2fc-46aa-aee5-aa9a1bc92215",
    "scrolled": false
   },
   "outputs": [],
   "source": [
    "!pip install covid\n",
    "!pip install pycountry\n",
    "!pip install plotly\n",
    "!pip install wget\n",
    "!pip install deep-translator\n",
    "!git clone https://github.com/NM-Labs/ChatBot.git"
   ]
  },
  {
   "cell_type": "markdown",
   "metadata": {
    "colab_type": "text",
    "id": "3wc9zP_LXkHw"
   },
   "source": [
    "# Interactuar"
   ]
  },
  {
   "cell_type": "markdown",
   "metadata": {
    "colab_type": "text",
    "id": "g36BAID-11eS"
   },
   "source": [
    "**Corre la celda de abajo para interactuar con MMNBot.\n",
    "Puedes interactuar con el de forma normal, solo intenta seguir la corriente.**\n",
    "\n",
    "\n",
    "---\n",
    "![](https://i.pinimg.com/originals/0c/67/5a/0c675a8e1061478d2b7b21b330093444.gif)\n"
   ]
  },
  {
   "cell_type": "code",
   "execution_count": 2,
   "metadata": {
    "cellView": "form",
    "colab": {},
    "colab_type": "code",
    "id": "aYnDOz5hXjbP"
   },
   "outputs": [
    {
     "name": "stdout",
     "output_type": "stream",
     "text": [
      "\u001b[1;34mQué tál! Soy tu amigo MMN Bot! ¿Cuál es tu nombre?: \n",
      "\n",
      "INPUT: \tnatalia\n",
      "\u001b[1;34mCHATBOT: \tMe caes bien, puedo recomendarte algo académico, algo de entretenimiento o de Covid, ¿cuál prefieres?\n",
      "NATALIA: \tacademico\n",
      "\u001b[1;34mCHATBOT:\n",
      "\u001b[1;34mTengo distintas recomendaciones académicas, algunas son:\n",
      "\n",
      "\u001b[1;34mCHATBOT:\n",
      " - Artículos\n",
      " - Investigadores\n",
      " - Definiciones\n",
      "NATALIA: \tarticulos\n",
      "\u001b[1;34mCHATBOT:\n",
      "\u001b[1;34mMe agrada que quieras descubrir conocimiento, di una palabra clave (en inglés)\n",
      "NATALIA: \tstatistics\n",
      "\u001b[1;34mBuscando alguna coincidencia...\n",
      "\u001b[1;34mCHATBOT:\n",
      "\u001b[1;34mUn artículo relacionado a Statistics que encontré para ti: Elementos para una teoría de redes en la fase de aprendizaje Puedes\n",
      "\u001b[1;34mleerlo completo en: https://arxiv.org/abs/1301.2959v2\n",
      "\u001b[1;34mCHATBOT: \tGenial, un gusto hablar contigo ¿quieres continuar conversando?\n",
      "NATALIA: \tno\n",
      "\u001b[1;34mCHATBOT: \tAdios!\n"
     ]
    }
   ],
   "source": [
    "#@title MMN Chatbot\n",
    "#@markdown ![Esta es una imagen de ejemplo](https://encrypted-tbn0.gstatic.com/images?q=tbn%3AANd9GcRGbLPwoNkbvHyZMHYn5F-8gnr2rF7BPKXnFw&usqp=CAU)\n",
    "import chatESC as c\n",
    "c.chatear()"
   ]
  }
 ],
 "metadata": {
  "colab": {
   "collapsed_sections": [
    "-4kLFuGLUoL3",
    "W1Ev1RnCVE9j",
    "AYFoF_IMUiiC",
    "VzesqFxMXT-B"
   ],
   "name": "MMN Chatbot.ipynb",
   "provenance": []
  },
  "kernelspec": {
   "display_name": "Python 3",
   "language": "python",
   "name": "python3"
  },
  "language_info": {
   "codemirror_mode": {
    "name": "ipython",
    "version": 3
   },
   "file_extension": ".py",
   "mimetype": "text/x-python",
   "name": "python",
   "nbconvert_exporter": "python",
   "pygments_lexer": "ipython3",
   "version": "3.8.5"
  }
 },
 "nbformat": 4,
 "nbformat_minor": 1
}
