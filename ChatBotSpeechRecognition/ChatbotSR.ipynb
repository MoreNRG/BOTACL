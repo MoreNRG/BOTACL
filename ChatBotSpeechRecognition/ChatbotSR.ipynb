{
 "cells": [
  {
   "cell_type": "markdown",
   "metadata": {},
   "source": [
    "*Instalación de librerias necesarias.*\n",
    "\n",
    "Solo se debe correr una única vez."
   ]
  },
  {
   "cell_type": "code",
   "execution_count": null,
   "metadata": {},
   "outputs": [],
   "source": [
    "!pip install covid\n",
    "!pip install pycountry\n",
    "!pip install plotly\n",
    "!pip install wget\n",
    "!pip install deep-translator\n",
    "!pip install nltk\n",
    "!pip install pandas\n",
    "!pip install numpy\n",
    "!pip install opencv-python\n",
    "!pip install unicodedata2\n",
    "!pip install pyaudio\n",
    "!pip install pyttsx3\n",
    "# !pip install os-win\n",
    "# !pip install string\n",
    "# !pip install random\n",
    "# !pip install os-sys"
   ]
  },
  {
   "cell_type": "markdown",
   "metadata": {
    "colab_type": "text",
    "id": "g36BAID-11eS"
   },
   "source": [
    "**Corre la celda de abajo para interactuar con MMNBot.\n",
    "Puedes interactuar con el de forma normal, solo intenta seguir la corriente.**\n",
    "\n",
    "\n",
    "---\n",
    "![](https://i.pinimg.com/originals/0c/67/5a/0c675a8e1061478d2b7b21b330093444.gif)\n"
   ]
  },
  {
   "cell_type": "code",
   "execution_count": 1,
   "metadata": {
    "cellView": "form",
    "colab": {},
    "colab_type": "code",
    "id": "aYnDOz5hXjbP",
    "scrolled": true
   },
   "outputs": [],
   "source": [
    "#@title MMN Chatbot\n",
    "#@markdown ![Esta es una imagen de ejemplo](https://encrypted-tbn0.gstatic.com/images?q=tbn%3AANd9GcRGbLPwoNkbvHyZMHYn5F-8gnr2rF7BPKXnFw&usqp=CAU)\n",
    "import chatVR as c\n",
    "c.chatear(\"D:/DireccionDeRaizACarpetaChatBot/\")"
   ]
  },
  {
   "cell_type": "code",
   "execution_count": null,
   "metadata": {},
   "outputs": [],
   "source": []
  }
 ],
 "metadata": {
  "colab": {
   "collapsed_sections": [
    "-4kLFuGLUoL3",
    "W1Ev1RnCVE9j",
    "AYFoF_IMUiiC",
    "VzesqFxMXT-B"
   ],
   "name": "De-Stress Chatbot.ipynb",
   "provenance": []
  },
  "kernelspec": {
   "display_name": "Python 3",
   "language": "python",
   "name": "python3"
  },
  "language_info": {
   "codemirror_mode": {
    "name": "ipython",
    "version": 3
   },
   "file_extension": ".py",
   "mimetype": "text/x-python",
   "name": "python",
   "nbconvert_exporter": "python",
   "pygments_lexer": "ipython3",
   "version": "3.8.5"
  }
 },
 "nbformat": 4,
 "nbformat_minor": 4
}
