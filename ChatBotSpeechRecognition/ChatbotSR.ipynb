{
 "cells": [
  {
   "cell_type": "markdown",
   "metadata": {},
   "source": [
    "*Instalación de librerias necesarias.*\n",
    "\n",
    "Solo se debe correr una única vez."
   ]
  },
  {
   "cell_type": "code",
   "execution_count": null,
   "metadata": {},
   "outputs": [],
   "source": [
    "!pip install covid\n",
    "!pip install pycountry\n",
    "!pip install plotly\n",
    "!pip install wget\n",
    "!pip install deep-translator\n",
    "!pip install string\n",
    "!pip install random\n",
    "!pip install nltk\n",
    "!pip install pandas\n",
    "!pip install numpy\n",
    "!pip install markdown-textwrap\n",
    "!pip install textwrap3\n",
    "!pip install opencv-python\n",
    "!pip install os-sys\n",
    "!pip install unicodedata2\n",
    "!pip install os-win"
   ]
  },
  {
   "cell_type": "markdown",
   "metadata": {
    "colab_type": "text",
    "id": "g36BAID-11eS"
   },
   "source": [
    "**Corre la celda de abajo para interactuar con MMNBot.\n",
    "Puedes interactuar con el de forma normal, solo intenta seguir la corriente.**\n",
    "\n",
    "\n",
    "---\n",
    "![](https://i.pinimg.com/originals/0c/67/5a/0c675a8e1061478d2b7b21b330093444.gif)\n"
   ]
  },
  {
   "cell_type": "code",
   "execution_count": 2,
   "metadata": {
    "cellView": "form",
    "colab": {},
    "colab_type": "code",
    "id": "aYnDOz5hXjbP",
    "scrolled": true
   },
   "outputs": [
    {
     "name": "stdout",
     "output_type": "stream",
     "text": [
      "\u001b[1;34mQué tál! Soy tu amigo MMN Bot! ¿Cuál es tu nombre?: \n",
      "\n",
      "Estoy escuchando...\n",
      "\u001b[F\u001b[1;30mINPUT : \tMi nombre es Natalia\n",
      "\u001b[1;34mCHATBOT: \tMe caes bien, puedo recomendarte algo académico, algo de entretenimiento o de Covid, ¿cuál prefieres?\n",
      "\u001b[1;31mEstoy escuchando...\n",
      "\u001b[1;31mProcesando...\n",
      "\u001b[1;31mReconocido.\n",
      "\u001b[1;30mNATALIA: \tt entretenimiento\n",
      "\u001b[1;34mCHATBOT:\n",
      "\u001b[1;34mGenial!, tengo estas categorías\n",
      "\n",
      "\u001b[1;34mCHATBOT:\n",
      " - Videos\n",
      " - Películas\n",
      " - Series\n",
      " - Música\n",
      " - Libros\n",
      " - Videojuegos\n",
      "\u001b[1;31mEstoy escuchando...\n",
      "\u001b[1;31mProcesando...\n",
      "\u001b[1;31mReconocido.\n",
      "\u001b[1;30mNATALIA: \tlibros también pensé lo mismo\n",
      "\u001b[1;34mCHATBOT:\n",
      "\u001b[1;34mMuy bien, libros, ¿qué tan grandes? mucho, mas o menos, poco...:\n",
      "\u001b[1;31mEstoy escuchando...\n",
      "\u001b[1;31mProcesando...\n",
      "\u001b[1;31mReconocido.\n",
      "\u001b[1;30mNATALIA: \tmás o menos\n",
      "\u001b[1;34mCHATBOT:\n",
      "\u001b[1;34mEste libro \"When Genius Failed: The Rise and Fall of Long-Term Capital Management\" suena bien para ti, fue escrito por Roger\n",
      "\u001b[1;34mLowenstein y tiene 264 páginas.\n",
      "\u001b[1;34mCHATBOT: \tGenial, un gusto hablar contigo ¿quieres continuar conversando?\n",
      "\u001b[1;31mEstoy escuchando...\n",
      "\u001b[1;31mProcesando...\n",
      "\u001b[1;31mReconocido.\n",
      "\u001b[1;30mNATALIA: \tpor hoy ya no\n",
      "\u001b[1;34mCHATBOT: \tAdios!\n"
     ]
    }
   ],
   "source": [
    "#@title MMN Chatbot\n",
    "#@markdown ![Esta es una imagen de ejemplo](https://encrypted-tbn0.gstatic.com/images?q=tbn%3AANd9GcRGbLPwoNkbvHyZMHYn5F-8gnr2rF7BPKXnFw&usqp=CAU)\n",
    "import chatVR as c\n",
    "c.chatear()"
   ]
  }
 ],
 "metadata": {
  "colab": {
   "collapsed_sections": [
    "-4kLFuGLUoL3",
    "W1Ev1RnCVE9j",
    "AYFoF_IMUiiC",
    "VzesqFxMXT-B"
   ],
   "name": "De-Stress Chatbot.ipynb",
   "provenance": []
  },
  "kernelspec": {
   "display_name": "Python 3",
   "language": "python",
   "name": "python3"
  },
  "language_info": {
   "codemirror_mode": {
    "name": "ipython",
    "version": 3
   },
   "file_extension": ".py",
   "mimetype": "text/x-python",
   "name": "python",
   "nbconvert_exporter": "python",
   "pygments_lexer": "ipython3",
   "version": "3.8.5"
  }
 },
 "nbformat": 4,
 "nbformat_minor": 4
}
